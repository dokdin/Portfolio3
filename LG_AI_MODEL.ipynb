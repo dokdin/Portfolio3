{
  "nbformat": 4,
  "nbformat_minor": 0,
  "metadata": {
    "colab": {
      "name": "LG_AI_MODEL.ipynb",
      "private_outputs": true,
      "provenance": [],
      "collapsed_sections": [],
      "toc_visible": true,
      "authorship_tag": "ABX9TyOmQbWlm0N6XCtcM93QMJ37",
      "include_colab_link": true
    },
    "kernelspec": {
      "name": "python3",
      "display_name": "Python 3"
    },
    "accelerator": "GPU"
  },
  "cells": [
    {
      "cell_type": "markdown",
      "metadata": {
        "id": "view-in-github",
        "colab_type": "text"
      },
      "source": [
        "<a href=\"https://colab.research.google.com/github/dokdin/Portfolio3/blob/master/LG_AI_MODEL.ipynb\" target=\"_parent\"><img src=\"https://colab.research.google.com/assets/colab-badge.svg\" alt=\"Open In Colab\"/></a>"
      ]
    },
    {
      "cell_type": "code",
      "metadata": {
        "id": "jFrX62tTRxMR"
      },
      "source": [
        "# 구글 드라이브 연동\r\n",
        "from google.colab import drive\r\n",
        "drive.mount('/content/drive')"
      ],
      "execution_count": null,
      "outputs": []
    },
    {
      "cell_type": "code",
      "metadata": {
        "id": "dSj17tvDR-P8"
      },
      "source": [
        "# 파일 디렉토리 \r\n",
        "PATH='/content/drive/MyDrive/Data/LG/'\r\n",
        "CSV_PATH='/content/drive/MyDrive/Data/LG/CSV/'"
      ],
      "execution_count": null,
      "outputs": []
    },
    {
      "cell_type": "code",
      "metadata": {
        "id": "coMX-vNsR-W8"
      },
      "source": [
        "!pip install pycaret"
      ],
      "execution_count": null,
      "outputs": []
    },
    {
      "cell_type": "code",
      "metadata": {
        "id": "pbIFTOoZSIRG"
      },
      "source": [
        "# 필요 라이브러리 호출 \r\n",
        "\r\n",
        "from pycaret.classification import *\r\n",
        "import pandas as pd\r\n",
        "import numpy as np\r\n",
        "import datetime as dt\r\n",
        "import matplotlib.pyplot as plt\r\n",
        "from tqdm import tqdm\r\n",
        "import gc\r\n",
        "import random\r\n",
        "import lightgbm as lgb\r\n",
        "import re\r\n",
        "from sklearn.metrics import *\r\n",
        "from sklearn.model_selection import KFold\r\n",
        "import warnings\r\n",
        "warnings.filterwarnings(action='ignore')\r\n",
        "\r\n",
        "# 필요 함수 정의\r\n",
        "\r\n",
        "def make_datetime(x):\r\n",
        "    # string 타입의 Time column을 datetime 타입으로 변경\r\n",
        "    x     = str(x)\r\n",
        "    year  = int(x[:4])\r\n",
        "    month = int(x[4:6])\r\n",
        "    day   = int(x[6:8])\r\n",
        "    # hour  = int(x[8:10])\r\n",
        "    #mim  = int(x[10:12])\r\n",
        "    #sec  = int(x[12:])\r\n",
        "    return dt.datetime(year,month, day)"
      ],
      "execution_count": null,
      "outputs": []
    },
    {
      "cell_type": "code",
      "metadata": {
        "id": "53v74EFNSOva"
      },
      "source": [
        "# 파일 불러오기 \r\n",
        "train_err = pd.read_csv(PATH+\"train_err_data.csv\")\r\n",
        "train_quality = pd.read_csv(PATH+'train_quality_data.csv')\r\n",
        "train_prob = pd.read_csv(PATH+'train_problem_data.csv')\r\n",
        "test_err = pd.read_csv(PATH+'test_err_data.csv')"
      ],
      "execution_count": null,
      "outputs": []
    },
    {
      "cell_type": "markdown",
      "metadata": {
        "id": "EghcgOZdX0RN"
      },
      "source": [
        "# train data"
      ]
    },
    {
      "cell_type": "code",
      "metadata": {
        "id": "7YY1EEFESUiP"
      },
      "source": [
        "# 시간 함수 적용하기 \r\n",
        "# train_err['datetime']=train_err['time'].apply(make_datetime)\r\n",
        "train_err['datetime']=train_err['time'].apply(make_datetime)"
      ],
      "execution_count": null,
      "outputs": []
    },
    {
      "cell_type": "code",
      "metadata": {
        "id": "2BqNb_BnSeFW"
      },
      "source": [
        "print(train_err['datetime'].min())\r\n",
        "print(train_err['datetime'].max())"
      ],
      "execution_count": null,
      "outputs": []
    },
    {
      "cell_type": "code",
      "metadata": {
        "id": "h2srgY3DSfyZ"
      },
      "source": [
        "# 시간변경\r\n",
        "filtered_df=train_err.loc[train_err[\"datetime\"].between('2020-10-31','2020-11-30')]"
      ],
      "execution_count": null,
      "outputs": []
    },
    {
      "cell_type": "code",
      "metadata": {
        "id": "LnN0Sf3HSjf8"
      },
      "source": [
        "# 시간데이터 수정 후 \r\n",
        "print(str(train_err.shape))\r\n",
        "print(str(filtered_df.shape))"
      ],
      "execution_count": null,
      "outputs": []
    },
    {
      "cell_type": "code",
      "metadata": {
        "id": "bZXG_rsdSqXK"
      },
      "source": [
        "# datetime에서 정수로 변환\r\n",
        "filtered_df['datetime'] = filtered_df['datetime'].dt.strftime('%Y-%m-%d')"
      ],
      "execution_count": null,
      "outputs": []
    },
    {
      "cell_type": "code",
      "metadata": {
        "id": "C1-Vj0_sS8iy"
      },
      "source": [
        "def test1(x):\r\n",
        "    if x=='2020-11-01': return 1\r\n",
        "    elif x=='2020-11-02': return 2\r\n",
        "    elif x=='2020-11-03': return 3\r\n",
        "    elif x=='2020-11-04': return 4\r\n",
        "    elif x=='2020-11-06': return 5\r\n",
        "    elif x=='2020-11-07': return 6\r\n",
        "    elif x=='2020-11-08': return 7\r\n",
        "    elif x=='2020-11-09': return 8\r\n",
        "    elif x=='2020-11-10': return 9\r\n",
        "    elif x=='2020-11-11': return 10\r\n",
        "    elif x=='2020-11-12': return 11\r\n",
        "    elif x=='2020-11-13': return 12\r\n",
        "    elif x=='2020-11-14': return 13\r\n",
        "    elif x=='2020-11-15': return 14\r\n",
        "    elif x=='2020-11-16': return 15\r\n",
        "    elif x=='2020-11-17': return 16\r\n",
        "    elif x=='2020-11-18': return 17\r\n",
        "    elif x=='2020-11-19': return 18\r\n",
        "    elif x=='2020-11-20': return 19\r\n",
        "    elif x=='2020-11-21': return 20\r\n",
        "    elif x=='2020-11-22': return 21\r\n",
        "    elif x=='2020-11-23': return 22\r\n",
        "    elif x=='2020-11-24': return 23\r\n",
        "    elif x=='2020-11-25': return 24\r\n",
        "    elif x=='2020-11-26': return 25\r\n",
        "    elif x=='2020-11-27': return 26\r\n",
        "    elif x=='2020-11-28': return 27\r\n",
        "    elif x=='2020-11-29': return 28\r\n",
        "    elif x=='2020-11-30': return 29\r\n",
        "    else: return 0"
      ],
      "execution_count": null,
      "outputs": []
    },
    {
      "cell_type": "code",
      "metadata": {
        "id": "zxeCSP7DS8lG"
      },
      "source": [
        "filtered_df['datetime']=filtered_df['datetime'].apply(test1)"
      ],
      "execution_count": null,
      "outputs": []
    },
    {
      "cell_type": "code",
      "metadata": {
        "id": "sz79GPD9Sufy"
      },
      "source": [
        "# 일자 별 독립변수 생성 \r\n",
        "id_error = filtered_df[['user_id','datetime']].values\r\n",
        "errorr = np.zeros((15000,30))\r\n",
        "for person_idx, err in tqdm(id_error):\r\n",
        "    # person_idx - 10000 위치에 person_idx, errtype에 해당하는 error값을 +1\r\n",
        "    errorr[person_idx - 10000,err - 1] += 1"
      ],
      "execution_count": null,
      "outputs": []
    },
    {
      "cell_type": "code",
      "metadata": {
        "id": "oZjoJI3zTbz9"
      },
      "source": [
        "# errtype별 독립변수 생성 \r\n",
        "id_errorr = filtered_df[['user_id','errtype']].values\r\n",
        "error = np.zeros((15000,42))\r\n",
        "\r\n",
        "for person_idx, err in tqdm(id_errorr):\r\n",
        "    # person_idx - train_user_id_min 위치에 person_idx, errtype에 해당하는 error값을 +1\r\n",
        "    error[person_idx - 10000,err - 1] += 1\r\n",
        "error.shape"
      ],
      "execution_count": null,
      "outputs": []
    },
    {
      "cell_type": "code",
      "metadata": {
        "id": "OHkWRo4TTlji"
      },
      "source": [
        "# 데이터 프레임 화 \r\n",
        "train = pd.DataFrame(data=error)\r\n",
        "train2=pd.DataFrame(data=errorr)"
      ],
      "execution_count": null,
      "outputs": []
    },
    {
      "cell_type": "code",
      "metadata": {
        "id": "xQpPBL1ETxjO"
      },
      "source": [
        "train=train.merge(train2,left_index=True, right_index=True )"
      ],
      "execution_count": null,
      "outputs": []
    },
    {
      "cell_type": "code",
      "metadata": {
        "id": "pg82hnegXobF"
      },
      "source": [
        "# 회원별 모델\r\n",
        "train_err_model=filtered_df[['user_id','model_nm']].drop_duplicates()\r\n",
        "model_list=np.sort(train_err_model['model_nm'].unique())\r\n",
        "Model = pd.DataFrame()\r\n",
        "\r\n",
        "for i in tqdm(range(len(model_list))):\r\n",
        "  model=np.zeros((15000))\r\n",
        "  train_err_model1=train_err_model[train_err_model['model_nm']==model_list[i]].reset_index(drop=True)\r\n",
        "  model[train_err_model1.user_id.unique()-10000]=1\r\n",
        "  Model[model_list[i]]=model"
      ],
      "execution_count": null,
      "outputs": []
    },
    {
      "cell_type": "code",
      "metadata": {
        "id": "h4FRTvzBX4X_"
      },
      "source": [
        "# 확인\r\n",
        "train=train.merge(Model,left_index=True, right_index=True )"
      ],
      "execution_count": null,
      "outputs": []
    },
    {
      "cell_type": "code",
      "metadata": {
        "id": "ZMZEnUjCTuk5"
      },
      "source": [
        "# 변수추가를 위한 종속변수 제거 \r\n",
        "# train.drop(['problem'],axis='columns')"
      ],
      "execution_count": null,
      "outputs": []
    },
    {
      "cell_type": "code",
      "metadata": {
        "id": "KnKSijn4l34P"
      },
      "source": [
        "Number_model = pd.DataFrame(columns=['user_id', 'Number_of_model'])\r\n",
        "user_list=filtered_df.user_id.unique().tolist()\r\n",
        "for i in tqdm(range(len(user_list))):\r\n",
        "  count=len(filtered_df.loc[filtered_df.user_id==user_list[i]].model_nm.unique())\r\n",
        "  Number_model=Number_model.append(pd.DataFrame([[user_list[i],count]],columns=['user_id','Number_of_model']),ignore_index=True)"
      ],
      "execution_count": null,
      "outputs": []
    },
    {
      "cell_type": "code",
      "metadata": {
        "id": "g0glAlzns2HH"
      },
      "source": [
        "Number_model=Number_model.drop(['user_id'],axis='columns')"
      ],
      "execution_count": null,
      "outputs": []
    },
    {
      "cell_type": "code",
      "metadata": {
        "id": "5X63d6JlmlWW"
      },
      "source": [
        "# 확인\r\n",
        "train=train.merge(Number_model,left_index=True, right_index=True )"
      ],
      "execution_count": null,
      "outputs": []
    },
    {
      "cell_type": "code",
      "metadata": {
        "id": "xBxjMfMLswnF"
      },
      "source": [
        "# 종속 변수\r\n",
        "problem = np.zeros(15000)\r\n",
        "problem[train_prob.user_id.unique()-10000] = 1 \r\n",
        "\r\n",
        "train['problem'] = problem\r\n",
        "# del error, problem"
      ],
      "execution_count": null,
      "outputs": []
    },
    {
      "cell_type": "code",
      "metadata": {
        "id": "4hElTKH9-a70"
      },
      "source": [
        "train"
      ],
      "execution_count": null,
      "outputs": []
    },
    {
      "cell_type": "code",
      "metadata": {
        "id": "IqYSr6I_UA5U"
      },
      "source": [
        "# AUTOML 실행\r\n",
        "clf = setup(data = train, target = 'problem')"
      ],
      "execution_count": null,
      "outputs": []
    },
    {
      "cell_type": "code",
      "metadata": {
        "id": "ylbMNU6TUpey"
      },
      "source": [
        "best_5  = compare_models(sort = 'AUC', n_select = 5)"
      ],
      "execution_count": null,
      "outputs": []
    },
    {
      "cell_type": "code",
      "metadata": {
        "id": "7uHg61-PUpiR"
      },
      "source": [
        "blended = blend_models(estimator_list = best_5, fold = 5, method = 'soft')"
      ],
      "execution_count": null,
      "outputs": []
    },
    {
      "cell_type": "code",
      "metadata": {
        "id": "oJjKZRk5Upkq"
      },
      "source": [
        "pred_holdout = predict_model(blended)"
      ],
      "execution_count": null,
      "outputs": []
    },
    {
      "cell_type": "code",
      "metadata": {
        "id": "BNkphlJaUpnG"
      },
      "source": [
        "final_model = finalize_model(blended)"
      ],
      "execution_count": null,
      "outputs": []
    },
    {
      "cell_type": "code",
      "metadata": {
        "id": "tMZqcQDDW9e6"
      },
      "source": [
        "final_model"
      ],
      "execution_count": null,
      "outputs": []
    },
    {
      "cell_type": "markdown",
      "metadata": {
        "id": "51cZj1QUUwsS"
      },
      "source": [
        "# test data"
      ]
    },
    {
      "cell_type": "code",
      "metadata": {
        "id": "BUtvGK0GuSWx"
      },
      "source": [
        "test_err = pd.read_csv(PATH+'test_err_data.csv')"
      ],
      "execution_count": null,
      "outputs": []
    },
    {
      "cell_type": "code",
      "metadata": {
        "id": "1ui5jVW0UwHO"
      },
      "source": [
        "# 시간 함수 적용하기 \r\n",
        "test_err['datetime']=test_err['time'].apply(make_datetime)"
      ],
      "execution_count": null,
      "outputs": []
    },
    {
      "cell_type": "code",
      "metadata": {
        "id": "e3Cj_I0rUwJD"
      },
      "source": [
        "# datetime에서 str로 변환\r\n",
        "test_err['datetime'] = test_err['datetime'].dt.strftime('%Y-%m-%d')"
      ],
      "execution_count": null,
      "outputs": []
    },
    {
      "cell_type": "code",
      "metadata": {
        "id": "MQfHEI11UwLx"
      },
      "source": [
        "test_err=test_err.loc[test_err[\"datetime\"].between('2020-10-31','2020-11-30')]\r\n",
        "test_err=test_err.drop(['time'],axis='columns')"
      ],
      "execution_count": null,
      "outputs": []
    },
    {
      "cell_type": "code",
      "metadata": {
        "id": "EwzyXk0IUhdt"
      },
      "source": [
        "test_err.info()"
      ],
      "execution_count": null,
      "outputs": []
    },
    {
      "cell_type": "code",
      "metadata": {
        "id": "T7KyurpMwuS_"
      },
      "source": [
        "def test1(x):\r\n",
        "    if x=='2020-11-01': return 1\r\n",
        "    elif x=='2020-11-02': return 2\r\n",
        "    elif x=='2020-11-03': return 3\r\n",
        "    elif x=='2020-11-04': return 4\r\n",
        "    elif x=='2020-11-06': return 5\r\n",
        "    elif x=='2020-11-07': return 6\r\n",
        "    elif x=='2020-11-08': return 7\r\n",
        "    elif x=='2020-11-09': return 8\r\n",
        "    elif x=='2020-11-10': return 9\r\n",
        "    elif x=='2020-11-11': return 10\r\n",
        "    elif x=='2020-11-12': return 11\r\n",
        "    elif x=='2020-11-13': return 12\r\n",
        "    elif x=='2020-11-14': return 13\r\n",
        "    elif x=='2020-11-15': return 14\r\n",
        "    elif x=='2020-11-16': return 15\r\n",
        "    elif x=='2020-11-17': return 16\r\n",
        "    elif x=='2020-11-18': return 17\r\n",
        "    elif x=='2020-11-19': return 18\r\n",
        "    elif x=='2020-11-20': return 19\r\n",
        "    elif x=='2020-11-21': return 20\r\n",
        "    elif x=='2020-11-22': return 21\r\n",
        "    elif x=='2020-11-23': return 22\r\n",
        "    elif x=='2020-11-24': return 23\r\n",
        "    elif x=='2020-11-25': return 24\r\n",
        "    elif x=='2020-11-26': return 25\r\n",
        "    elif x=='2020-11-27': return 26\r\n",
        "    elif x=='2020-11-28': return 27\r\n",
        "    elif x=='2020-11-29': return 28\r\n",
        "    elif x=='2020-11-30': return 29\r\n",
        "    else: return 0"
      ],
      "execution_count": null,
      "outputs": []
    },
    {
      "cell_type": "code",
      "metadata": {
        "id": "VsyTWiTHOwrM"
      },
      "source": [
        "test_err['datetime']=test_err['datetime'].apply(test1)"
      ],
      "execution_count": null,
      "outputs": []
    },
    {
      "cell_type": "code",
      "metadata": {
        "id": "AAc7wZ9RO2aa"
      },
      "source": [
        "test_err.info()"
      ],
      "execution_count": null,
      "outputs": []
    },
    {
      "cell_type": "code",
      "metadata": {
        "id": "aQNUQogaPstZ"
      },
      "source": [
        "id_error = test_err[['user_id','errtype']].values\r\n",
        "test_x = np.zeros((14999,42))\r\n",
        "for person_idx, err in tqdm(id_error):\r\n",
        "    test_x[person_idx - 30000,err - 1] += 1\r\n",
        "test_x = test_x.reshape(test_x.shape[0],-1)\r\n",
        "test = pd.DataFrame(data=test_x)"
      ],
      "execution_count": null,
      "outputs": []
    },
    {
      "cell_type": "code",
      "metadata": {
        "id": "jtI5HwjzUwN9"
      },
      "source": [
        "id_error = test_err[['user_id','datetime']].values\r\n",
        "test_x = np.zeros((14999,30))\r\n",
        "for person_idx, err in tqdm(id_error):\r\n",
        "    # person_idx - 10000 위치에 person_idx, errtype에 해당하는 error값을 +1\r\n",
        "    test_x[person_idx - 30000,err - 1] += 1\r\n",
        "test_x = test_x.reshape(test_x.shape[0],-1)\r\n",
        "testt = pd.DataFrame(data=test_x)"
      ],
      "execution_count": null,
      "outputs": []
    },
    {
      "cell_type": "code",
      "metadata": {
        "id": "tUtcA4hZVHPj"
      },
      "source": [
        " test2=test.merge(testt,left_index=True, right_index=True )"
      ],
      "execution_count": null,
      "outputs": []
    },
    {
      "cell_type": "code",
      "metadata": {
        "id": "QTP2OMxCewpf"
      },
      "source": [
        "test_err_model=test_err[['user_id','model_nm']].drop_duplicates()\r\n",
        "model_list=np.sort(test_err_model['model_nm'].unique())\r\n",
        "Model = pd.DataFrame()\r\n",
        "\r\n",
        "for i in tqdm(range(len(model_list))):\r\n",
        "  model=np.zeros((14999))\r\n",
        "  train_err_model1=test_err_model[test_err_model['model_nm']==model_list[i]].reset_index(drop=True)\r\n",
        "  model[train_err_model1.user_id.unique()-30000]=1\r\n",
        "  Model[model_list[i]]=model\r\n"
      ],
      "execution_count": null,
      "outputs": []
    },
    {
      "cell_type": "code",
      "metadata": {
        "id": "66FpJsfBiQj-"
      },
      "source": [
        " test3=test2.merge(Model,left_index=True, right_index=True )"
      ],
      "execution_count": null,
      "outputs": []
    },
    {
      "cell_type": "code",
      "metadata": {
        "id": "DvP1JrY7gFQ7"
      },
      "source": [
        "Number_model = pd.DataFrame(columns=['user_id', 'Number_of_model'])\r\n",
        "user_list=test_err.user_id.unique().tolist()\r\n",
        "for i in tqdm(range(len(user_list))):\r\n",
        "  count=len(test_err.loc[test_err.user_id==user_list[i]].model_nm.unique())\r\n",
        "  Number_model=Number_model.append(pd.DataFrame([[user_list[i],count]],columns=['user_id','Number_of_model']),ignore_index=True)"
      ],
      "execution_count": null,
      "outputs": []
    },
    {
      "cell_type": "code",
      "metadata": {
        "id": "nR82HtpiKtXd"
      },
      "source": [
        "new_data={'user_id':'43262','Number_of_model':0}\r\n",
        "Number_model=Number_model.append(new_data,ignore_index=True)"
      ],
      "execution_count": null,
      "outputs": []
    },
    {
      "cell_type": "code",
      "metadata": {
        "id": "YGLCb5TV7mEP"
      },
      "source": [
        " test4=test3.merge(Number_model,left_index=True, right_index=True )"
      ],
      "execution_count": null,
      "outputs": []
    },
    {
      "cell_type": "code",
      "metadata": {
        "id": "ijOzcSTZVtCY"
      },
      "source": [
        "predictions = predict_model(final_model, data = test4)"
      ],
      "execution_count": null,
      "outputs": []
    },
    {
      "cell_type": "code",
      "metadata": {
        "id": "eLlSMbnlV4GL"
      },
      "source": [
        "#pycaret에서는 score이 label을 맞출 확률이기때문에 output을 제출 양식에 맞게 바꿔줍니다\r\n",
        "x = []\r\n",
        "for i in range(len(predictions['Score'])):\r\n",
        "  if predictions['Label'][i] =='1.0':\r\n",
        "    x.append(predictions['Score'][i])\r\n",
        "  else:\r\n",
        "    x.append(1-predictions['Score'][i])\r\n"
      ],
      "execution_count": null,
      "outputs": []
    },
    {
      "cell_type": "code",
      "metadata": {
        "id": "_d5HyGJ1V5mD"
      },
      "source": [
        "sample_submssion = pd.read_csv(PATH+'sample_submission.csv')\r\n",
        "sample_submssion['problem'] = x\r\n",
        "sample_submssion.to_csv(CSV_PATH+\"210203(3).csv\", index = False)"
      ],
      "execution_count": null,
      "outputs": []
    }
  ]
}